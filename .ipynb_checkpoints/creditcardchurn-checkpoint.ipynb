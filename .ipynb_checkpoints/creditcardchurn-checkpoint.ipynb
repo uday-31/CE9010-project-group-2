{
 "cells": [
  {
   "cell_type": "markdown",
   "metadata": {
    "id": "w6D_uJbeTi0x"
   },
   "source": [
    "# CE9010 Group Project - Group 2\n",
    "*by Oh Bing Quan, Sharma Uday, Zhao Zhun* \n",
    "\n",
    "# Predicting Churning Credit Card Customers\n",
    "\n",
    "## Table of Contents\n",
    "1. [Introduction](#introduction)\n",
    "* [Data Problem](#problem)\n",
    "* [Data Acquisition](#acquisition)\n",
    "* [References](#ref)"
   ]
  },
  {
   "cell_type": "markdown",
   "metadata": {
    "id": "xLDLMW6N2QEw"
   },
   "source": [
    "## 1. Introduction <a id=\"introduction\"></a>\n",
    "\n",
    "This project is done in fulfillment of the module requirements for CE9010: Introduction to Data Analysis. It has been done through collaboration on GitHub, and is hosted at https://github.com/uday-31/CE9010-project-group2.\n",
    "\n",
    "The following libraries were used:\n",
    "* numpy\n",
    "* pandas\n",
    "* datetime\n",
    "* seaborn\n",
    "* matplotlib\n",
    "* collections\n",
    "* scikit-learn\n",
    "* xgboost\n",
    "* math\n",
    "* warnings"
   ]
  },
  {
   "cell_type": "code",
   "execution_count": 1,
   "metadata": {},
   "outputs": [],
   "source": [
    "import numpy as np\n",
    "import pandas as pd\n",
    "import datetime\n",
    "import seaborn as sns\n",
    "\n",
    "# visualization library\n",
    "%matplotlib inline\n",
    "from IPython.display import set_matplotlib_formats\n",
    "set_matplotlib_formats('png2x','pdf')\n",
    "import matplotlib.pyplot as plt\n",
    "from mpl_toolkits.mplot3d import Axes3D\n",
    "\n",
    "#Misc\n",
    "from collections import Counter\n",
    "\n",
    "# scikit-learn library\n",
    "from sklearn import model_selection\n",
    "from sklearn.preprocessing import LabelEncoder\n",
    "from sklearn.ensemble import RandomForestClassifier\n",
    "from sklearn.model_selection import StratifiedKFold\n",
    "from sklearn.model_selection import train_test_split\n",
    "from sklearn.metrics import plot_confusion_matrix\n",
    "from sklearn.metrics import precision_recall_fscore_support\n",
    "from sklearn.metrics import classification_report, confusion_matrix, accuracy_score, recall_score, roc_auc_score, precision_score, roc_curve, log_loss\n",
    "from sklearn.model_selection import RandomizedSearchCV\n",
    "from sklearn.preprocessing import StandardScaler\n",
    "from sklearn.linear_model import LogisticRegression\n",
    "from sklearn.neighbors import KNeighborsClassifier\n",
    "from sklearn.svm import SVC\n",
    "from sklearn.tree import DecisionTreeClassifier\n",
    "from sklearn.ensemble import AdaBoostClassifier\n",
    "from sklearn.decomposition import PCA\n",
    "\n",
    "from xgboost import XGBClassifier\n",
    "\n",
    "import math\n",
    "\n",
    "# remove warning\n",
    "import warnings\n",
    "warnings.filterwarnings(\"ignore\")"
   ]
  },
  {
   "cell_type": "markdown",
   "metadata": {
    "id": "yXN5cLtZ2Lvf"
   },
   "source": [
    "## 2. Data Problem <a id='problem'></a>\n",
    "\n",
    "Credit card churning is the practice of repeatedly opening and closing credit cards to earn cash, rewards points or miles. Often, you can qualify for a large intro bonus after opening a new credit card, which is something \"churners\" exploit to try to amass a lot of rewards. However, credit card companies may view the practice as gaming the system and take steps to prevent it. [[1]](#one)\n",
    "\n",
    "The dataset consists of information on credit card customers, along with information on whether their account is closed or not, which can be used to identify churners. Machine Learning models can be employed to learn which customers are likely to churn, so the banks can go to the customer to provide them better services to prevent churning."
   ]
  },
  {
   "cell_type": "markdown",
   "metadata": {},
   "source": [
    "## 3. Data Acquisition <a id='acquisition'></a>\n",
    "\n",
    "### 3.1 Kaggle API\n",
    "The dataset used for this project is a public dataset available on [Kaggle](https://www.kaggle.com/sakshigoyal7/credit-card-customers). \n",
    "\n",
    "The dataset is downloaded using the Kaggle API. The json file for authenticating the Kaggle account has been removed from the GitHub repository for privacy purposes."
   ]
  },
  {
   "cell_type": "code",
   "execution_count": 1,
   "metadata": {
    "id": "wtMJPLwoQ9HB"
   },
   "outputs": [
    {
     "name": "stdout",
     "output_type": "stream",
     "text": [
      "Downloading BankChurners.csv.zip to data\n",
      "\n"
     ]
    },
    {
     "name": "stderr",
     "output_type": "stream",
     "text": [
      "\n",
      "  0%|          | 0.00/379k [00:00<?, ?B/s]\n",
      "100%|##########| 379k/379k [00:00<00:00, 22.1MB/s]\n"
     ]
    }
   ],
   "source": [
    "#!pip install kaggle\n",
    "import json\n",
    "\n",
    "!kaggle datasets download sakshigoyal7/credit-card-customers -f BankChurners.csv -p data"
   ]
  },
  {
   "cell_type": "markdown",
   "metadata": {},
   "source": [
    "### 3.2 Load Data File\n",
    "\n",
    "We use pandas as the dataframe library to handle the dataset. \n",
    "As specified by the uploader of the dataset, there are two features in the raw dataset that are included by error. These features are first dropped."
   ]
  },
  {
   "cell_type": "code",
   "execution_count": 2,
   "metadata": {},
   "outputs": [],
   "source": [
    "data = pd.read_csv('data/BankChurners.csv.zip')\n",
    "data = data.drop(['Naive_Bayes_Classifier_Attrition_Flag_Card_Category_Contacts_Count_12_mon_Dependent_count_Education_Level_Months_Inactive_12_mon_1', 'Naive_Bayes_Classifier_Attrition_Flag_Card_Category_Contacts_Count_12_mon_Dependent_count_Education_Level_Months_Inactive_12_mon_2'], axis = 1)"
   ]
  },
  {
   "cell_type": "markdown",
   "metadata": {},
   "source": [
    "## References <a id='ref'></a>\n",
    "<a id=\"one\"></a>1. \"What is Credit Card Churning? - Experian,\" n.d. Accessed on: Apr. 8, 2021. [Online]. Available: https://www.experian.com/blogs/ask-experian/what-is-credit-card-churning/"
   ]
  },
  {
   "cell_type": "code",
   "execution_count": null,
   "metadata": {},
   "outputs": [],
   "source": []
  }
 ],
 "metadata": {
  "colab": {
   "authorship_tag": "ABX9TyP3CCa/HvtwL6rGmgysdURo",
   "collapsed_sections": [],
   "mount_file_id": "1-NMWKWm8LQA9oAmpBEbhIvfNIrQA8CIO",
   "name": "creditcardchurn.ipynb",
   "provenance": []
  },
  "kernelspec": {
   "display_name": "Python 3",
   "language": "python",
   "name": "python3"
  },
  "language_info": {
   "codemirror_mode": {
    "name": "ipython",
    "version": 3
   },
   "file_extension": ".py",
   "mimetype": "text/x-python",
   "name": "python",
   "nbconvert_exporter": "python",
   "pygments_lexer": "ipython3",
   "version": "3.7.6"
  }
 },
 "nbformat": 4,
 "nbformat_minor": 1
}
