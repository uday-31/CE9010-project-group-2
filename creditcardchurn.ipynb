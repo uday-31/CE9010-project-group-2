{
 "cells": [
  {
   "cell_type": "markdown",
   "metadata": {
    "id": "w6D_uJbeTi0x"
   },
   "source": [
    "Introduction (if necessary)\n",
    "\n",
    "This project is done in fulfillment of the module requirements (CE9010 - Introduction to Data Science)"
   ]
  },
  {
   "cell_type": "markdown",
   "metadata": {
    "id": "xLDLMW6N2QEw"
   },
   "source": [
    "# 1. Problem Description\n",
    "The managers of a bank are disturbed with more and more customers leaving their credit card services. They would really appreciate if one could predict for them who is gonna get churned so they can proactively go to the customer to provide them better services and turn customers' decisions in the opposite direction."
   ]
  },
  {
   "cell_type": "markdown",
   "metadata": {
    "id": "yXN5cLtZ2Lvf"
   },
   "source": [
    "# 2. Environment Setup"
   ]
  },
  {
   "cell_type": "markdown",
   "metadata": {
    "id": "HJSGa2m8WM7m"
   },
   "source": [
    "## 2.1 Kaggle API Setup\n",
    "The dataset used for this project is a public dataset available on Kaggle. \n",
    "\n",
    "https://www.kaggle.com/sakshigoyal7/credit-card-customers\n",
    "\n",
    "The dataset can be downloaded via the Kaggle API and is the original method used by the authors. However, the Kaggle API requires an individual security token that will not be uploaded for personal security concerns. Therefore, the dataset CSV is downloaded via the API and uploaded for submission of the project. For the purposes of learning, the code required to access the Kaggle API is contained below but not meant to be executed."
   ]
  },
  {
   "cell_type": "code",
   "execution_count": 1,
   "metadata": {
    "id": "wtMJPLwoQ9HB"
   },
   "outputs": [
    {
     "name": "stdout",
     "output_type": "stream",
     "text": [
      "Downloading BankChurners.csv.zip to data\n",
      "\n"
     ]
    },
    {
     "name": "stderr",
     "output_type": "stream",
     "text": [
      "\n",
      "  0%|          | 0.00/379k [00:00<?, ?B/s]\n",
      "100%|##########| 379k/379k [00:00<00:00, 22.1MB/s]\n"
     ]
    }
   ],
   "source": [
    "#!pip install kaggle\n",
    "import json\n",
    "\n",
    "!kaggle datasets download sakshigoyal7/credit-card-customers -f BankChurners.csv -p data"
   ]
  }
 ],
 "metadata": {
  "colab": {
   "authorship_tag": "ABX9TyP3CCa/HvtwL6rGmgysdURo",
   "collapsed_sections": [],
   "mount_file_id": "1-NMWKWm8LQA9oAmpBEbhIvfNIrQA8CIO",
   "name": "creditcardchurn.ipynb",
   "provenance": []
  },
  "kernelspec": {
   "display_name": "Python 3",
   "language": "python",
   "name": "python3"
  },
  "language_info": {
   "codemirror_mode": {
    "name": "ipython",
    "version": 3
   },
   "file_extension": ".py",
   "mimetype": "text/x-python",
   "name": "python",
   "nbconvert_exporter": "python",
   "pygments_lexer": "ipython3",
   "version": "3.6.13"
  }
 },
 "nbformat": 4,
 "nbformat_minor": 1
}
